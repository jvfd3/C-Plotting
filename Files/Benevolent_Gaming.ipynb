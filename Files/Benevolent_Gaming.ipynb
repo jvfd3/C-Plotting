{
  "cells": [
    {
      "cell_type": "markdown",
      "metadata": {
        "id": "view-in-github",
        "colab_type": "text"
      },
      "source": [
        "<a href=\"https://colab.research.google.com/github/jvfd3/C-Plotting/blob/main/Files/Benevolent_Gaming.ipynb\" target=\"_parent\"><img src=\"https://colab.research.google.com/assets/colab-badge.svg\" alt=\"Open In Colab\"/></a>"
      ]
    },
    {
      "cell_type": "markdown",
      "id": "0aff073e",
      "metadata": {
        "id": "0aff073e"
      },
      "source": [
        "# Project Idea\n",
        "\n",
        "## Find a non trivial scenario\n",
        "\n",
        "Considering the Game Theory course where we can earn gamepoints that will later be converted into a grade, we can think of a scenario where students are players in a game involving playing games to earn points. We consider that each student has as its objective to maximize their own grade, which is a function of the gamepoints they earn. However, focusing solely on their own behalf may not be the best strategy, as it can lead to suboptimal outcomes for the group as a whole.\n",
        "\n",
        "## Describe this scenario informally: players, actions, conflicts, utilities, complications\n",
        "\n",
        "Having said that, we could consider that our game could be described as \"a sequence of Game Theory games where students, picked at random, play against each other to earn gamepoints\". In this game, each student is a player, and their actions consist of, given a certain game, the actions they have available for them.\n",
        "\n",
        "The conflicts arise from the fact that students are competing for the same gamepoints, and not necessarily cooperating will lead them to their best outcome, since their utilities are their conversion of gamepoints into grades, and we could also consider that the ones that have the least gamepoints will have the most to gain from earning more gamepoints.\n",
        "\n",
        "The scenarion becomes even more complex when we consider that students may have different levels of knowledge and skills in game theory. They may consider different strategies based on their own understanding of the game and of the other players.\n",
        "\n",
        "## Model one or more configurations for this scenario formally\n",
        "\n",
        "### game type\n",
        "\n",
        "A sequence of games where students play against each other to earn gamepoints.\n",
        "\n",
        "### players\n",
        "\n",
        "- Students enrolled in the Game Theory course\n",
        "  - 1~5 picked at random#\n",
        "    - #: the randomness considers that the same player will only be picked again after all other players have been picked\n",
        "\n",
        "### strategies\n",
        "\n",
        "many strategies are available and they differ between games.\n",
        "\n",
        "### payoffs\n",
        "\n",
        "the scores on the game table, which will be converted into grades\n",
        "\n",
        "### solutions\n",
        "\n",
        "It's what we are going to analyse: the different ways students can play the game, the strategies they can use, and how these affect their outcomes.\n",
        "\n",
        "- **Maxmin:** Players choose strategies that maximize their minimum payoff, ensuring a baseline level of success.\n",
        "- **Minimax regret Player:** Jogador que tenta minimizar o seu máximo arrependimento\n",
        "- **Minimax:** Jogador que tenta minimizar o máximo payoff possível dos outros jogadores\n",
        "- **Minimax:** Players choose strategies that minimize their maximum loss, focusing on avoiding the worst outcome.\n",
        "- **Mixed Strategies:** Players randomize their strategies to keep opponents uncertain, potentially leading to more favorable outcomes.\n",
        "- **Most Reasonable Player:** Jogador que sempre vai no Melhor Equilíbrio de Nash Puro\n",
        "- **Nash Equilibrium:** A situation where no player can benefit by changing their strategy while others keep theirs unchanged, leading to a stable outcome.\n",
        "- **Pareto Optimality:** An outcome where no player can be made better off without making another player worse off, indicating an efficient allocation of resources.\n",
        "- **Pareto Player:** Jogador que sempre descarta ações pareto-dominadas e, quando possível, escolhe a sua melhor ação pareto-ótima\n",
        "- **Reasonable Player:** Jogador que sempre vai no Equilíbrio de Nash Puro\n",
        "- **Removal of dominated strategies Player:** Jogador que remove estratégias dominadas e faz sua escolha com base nelas\n",
        "- **Risk Aversion Player:** Jogador que sempre descarta a opção de maior risco antes de tomar sua decisão\n",
        "- **Social Welfare Player:** Jogador que sempre busca cooperar, aumentando o social welfare\n",
        "- **Social Welfare:** The overall well-being of all players, considering the collective outcomes rather than individual gains, promoting cooperation and fairness.\n",
        "- **Temptation Player:** Jogador que sempre vai na opção que tem seu maior payoff possível\n",
        "- **Undecided Player:** Jogador Reasonable que, ao se deparar com mais de um equilíbrio de Nash, é indiferente a ambos e escolhe aleatoriamente uma das opções\n",
        "\n",
        "#### Soluções propostas\n",
        "\n",
        "- **Other Max:** Visa maximizar o welfare social dos outros jogadores.\n",
        "- **Other MeanMax:** Visa maximizar o welfare social dos outros jogadores sem grande diferença entre os jogadores.\n",
        "\n",
        "## Discussion and conclusions\n",
        "\n",
        "- We expect that throughout the experiment the Solution maximizing Social Welfare will be the most effective one as to increse the whole group's gamepoints, and consequently each student's grade.\n",
        "\n",
        "---\n"
      ]
    },
    {
      "cell_type": "markdown",
      "id": "55a5cd53",
      "metadata": {
        "id": "55a5cd53"
      },
      "source": [
        "# Describing the Libraries\n",
        "\n",
        "We used the libraries...\n",
        "\n",
        "- [PyGambit](https://gambitproject.readthedocs.io/en/v16.3.0/gui.html)\n",
        "- [NashPy](https://nashpy.readthedocs.io/en/stable/tutorial/index.html)\n"
      ]
    },
    {
      "cell_type": "code",
      "execution_count": 1,
      "id": "39fcc4a8",
      "metadata": {
        "id": "39fcc4a8",
        "outputId": "412da20c-8916-4e55-8a82-d85ed069ef41",
        "colab": {
          "base_uri": "https://localhost:8080/",
          "height": 36
        }
      },
      "outputs": [
        {
          "output_type": "execute_result",
          "data": {
            "text/plain": [
              "' Installing Libraries '"
            ],
            "application/vnd.google.colaboratory.intrinsic+json": {
              "type": "string"
            }
          },
          "metadata": {},
          "execution_count": 1
        }
      ],
      "source": [
        "\"\"\" Installing Libraries \"\"\"\n"
      ]
    },
    {
      "cell_type": "code",
      "execution_count": 2,
      "id": "f38c36b0",
      "metadata": {
        "id": "f38c36b0",
        "outputId": "9aef63cf-5314-4a60-b094-218e68cc12ac",
        "colab": {
          "base_uri": "https://localhost:8080/",
          "height": 36
        }
      },
      "outputs": [
        {
          "output_type": "execute_result",
          "data": {
            "text/plain": [
              "' Importing libraries '"
            ],
            "application/vnd.google.colaboratory.intrinsic+json": {
              "type": "string"
            }
          },
          "metadata": {},
          "execution_count": 2
        }
      ],
      "source": [
        "\"\"\" Importing libraries \"\"\"\n",
        "\n"
      ]
    },
    {
      "cell_type": "markdown",
      "id": "78a616b2",
      "metadata": {
        "id": "78a616b2"
      },
      "source": [
        "# Setting up the games\n",
        "\n",
        "We will set up the following games and its payoffs.\n",
        "\n",
        "- **Game 1:** Prisoner's Dilemma\n",
        "- **Game 2:** Stag Hunt\n",
        "- **Game 3:** Battle of Sexes\n",
        "- **Game 4:** Chicken Game\n",
        "- **Game 5:** Matching Pennies\n",
        "- **Game 6:** Rock-Paper-Scissors\n",
        "- **Game 7:** Ultimatum Game\n"
      ]
    },
    {
      "cell_type": "code",
      "execution_count": null,
      "id": "5b48a0db",
      "metadata": {
        "id": "5b48a0db"
      },
      "outputs": [],
      "source": [
        "\"\"\" Setting up the games\n",
        "    - Descobrir como a biblioteca aceita a definição de jogos\n",
        "    - Como usar equilíbrio correlacionado?\n",
        "    - Como repetir o mesmo jogo?\n",
        "\"\"\"\n",
        "\n",
        "games_payoffs = {\n",
        "    'exam_presentation': {\n",
        "        'p1': [[90, 86], [92, 88]],\n",
        "        'p2': [[90, 92], [86, 88]],\n",
        "    },\n",
        "    'prisoners_dilemma': {\n",
        "        'p1': [[-1, -10], [  0, -4]],\n",
        "        'p2': [[-1,   0], [-10, -4]],\n",
        "    },\n",
        "    'unb_coord_game': {\n",
        "        'p1': [[1, 0], [0, 2]],\n",
        "        'p2': [[1, 0], [0, 2]],\n",
        "    },\n",
        "    'matching_pennies': {\n",
        "        'p1': [[ 1, -1], [-1,  1]],\n",
        "        'p2': [[-1,  1], [ 1, -1]],\n",
        "    },\n",
        "    'rock_paper_scissors': {\n",
        "        'p1': [[0, -1,  1], [ 1, 0, -1], [-1,  1, 0]],\n",
        "        'p2': [[0,  1, -1], [-1, 0,  1], [ 1, -1, 0]],\n",
        "    },\n",
        "    'stag_hunt': {\n",
        "        'p1': [[4, 0], [3, 3]],\n",
        "        'p2': [[4, 3], [0, 3]],\n",
        "    },\n",
        "    'fun_game': {\n",
        "        'p1': [[320, 40], [40, 80]],\n",
        "        'p2': [[ 40, 80], [80, 40]],\n",
        "    },\n",
        "    'another_game_to_be_played': {\n",
        "        'p1': [[0.48, 0.60], [0.40, 0.32]],\n",
        "        'p2': [[0.12, 0.40], [0.60, 0.08]],\n",
        "    },\n",
        "    'another_solution_concept': {\n",
        "        'p1': [[3, 0, 0], [1, 1, 10], [0, 4, 5]],\n",
        "        'p2': [[1, 3, 0], [5, 1,  0], [0.5, 2, 0]],\n",
        "    },\n",
        "    'hawk_dove': {\n",
        "        'p1': [[3, 1], [5, 0]],\n",
        "        'p2': [[3, 5], [1, 0]],\n",
        "    },\n",
        "}\n",
        "\n",
        "\n",
        "game_sequence = {\n",
        "    'g01': {'players': 2, 'same_players': True, 'repetitions': 1, 'payoffs': games_payoffs['exam_presentation'], 'name': 'exam_presentation'},\n",
        "    'g02': {'players': 2, 'same_players': True, 'repetitions': 1, 'payoffs': games_payoffs['prisoners_dilemma'], 'name': 'prisoners_dilemma'},\n",
        "    'g03': {'players': 2, 'same_players': True, 'repetitions': 1, 'payoffs': games_payoffs['unb_coord_game'], 'name': 'unb_coord_game'},\n",
        "    'g04': {'players': 2, 'same_players': True, 'repetitions': 1, 'payoffs': games_payoffs['matching_pennies'], 'name': 'matching_pennies'},\n",
        "    'g05': {'players': 2, 'same_players': True, 'repetitions': 1, 'payoffs': games_payoffs['rock_paper_scissors'], 'name': 'rock_paper_scissors'},\n",
        "    'g06': {'players': 2, 'same_players': True, 'repetitions': 1, 'payoffs': games_payoffs['stag_hunt'], 'name': 'stag_hunt'},\n",
        "    'g07': {'players': 2, 'same_players': True, 'repetitions': 1, 'payoffs': games_payoffs['fun_game'], 'name': 'fun_game'},\n",
        "    'g08': {'players': 2, 'same_players': True, 'repetitions': 1, 'payoffs': games_payoffs['another_game_to_be_played'], 'name': 'another_game_to_be_played'},\n",
        "    'g09': {'players': 2, 'same_players': True, 'repetitions': 1, 'payoffs': games_payoffs['another_solution_concept'], 'name': 'another_solution_concept'},\n",
        "    'g10': {'players': 2, 'same_players': True, 'repetitions': 1, 'payoffs': games_payoffs['hawk_dove'], 'name': 'hawk_dove'},\n",
        "}"
      ]
    },
    {
      "cell_type": "markdown",
      "id": "52ca4238",
      "metadata": {
        "id": "52ca4238"
      },
      "source": [
        "# Setting up the strategies\n",
        "\n",
        "- Defining the strategies function (?)"
      ]
    },
    {
      "cell_type": "code",
      "execution_count": null,
      "id": "9f22648d",
      "metadata": {
        "id": "9f22648d"
      },
      "outputs": [],
      "source": [
        "\"\"\" Setting the strategies functions \"\"\"\n",
        "\n",
        "def strat_minimax(payoffs):\n",
        "    \"\"\" Minimax strategy function \"\"\"\n",
        "    pass\n",
        "\n",
        "def strat_maxmin(payoffs):\n",
        "    \"\"\" Maxmin strategy function \"\"\"\n",
        "    pass\n",
        "\n",
        "strategies = {\n",
        "    'minimax': strat_minimax,\n",
        "    'maxmin': strat_maxmin,\n",
        "}\n"
      ]
    },
    {
      "cell_type": "markdown",
      "id": "de7225b3",
      "metadata": {
        "id": "de7225b3"
      },
      "source": [
        "# Setting up the players\n",
        "\n",
        "- They will keep the same strategies throughout the games?\n",
        "- They will change strategies randomly?\n",
        "- They will all keep the same strategies?\n"
      ]
    },
    {
      "cell_type": "code",
      "execution_count": null,
      "id": "a39ca47d",
      "metadata": {
        "id": "a39ca47d"
      },
      "outputs": [],
      "source": [
        "\"\"\" Setting the player strategies \"\"\"\n",
        "\n",
        "def get_players(num_players):\n",
        "    \"\"\" Create a list of players based on the number of players \"\"\"\n",
        "    digits = len(str(num_players))\n",
        "\n",
        "    player_list = [f'p{str(i+1).zfill(digits)}' for i in range(num_players)]\n",
        "    return player_list\n",
        "\n",
        "\n",
        "def set_player_strategies(players, strategies):\n",
        "    \"\"\" Assign strategies to players \"\"\"\n",
        "    return {player: strategies for player in players}\n",
        "\n",
        "players = get_players(21)\n",
        "\n",
        "player_strategies = set_player_strategies(players, strategies)"
      ]
    },
    {
      "cell_type": "markdown",
      "id": "520564b5",
      "metadata": {
        "id": "520564b5"
      },
      "source": [
        "# Actually running the games\n",
        "\n",
        "- We will run 10 iterations of the same game-strategy-player configuration. Get the mean of the gamepoints earned by each player in each iteration and plot the results.\n",
        "- We will test:\n",
        "  - All players with the same strategy\n",
        "  - All players with different strategies\n",
        "  - All players with random strategies"
      ]
    },
    {
      "cell_type": "code",
      "execution_count": null,
      "id": "53627540",
      "metadata": {
        "id": "53627540"
      },
      "outputs": [],
      "source": [
        "\"\"\" Running games \"\"\"\n",
        "\n",
        "def run_games(players_strats, games):\n",
        "    \"\"\" Run the games with the given players and strategies \"\"\"\n",
        "    pass"
      ]
    },
    {
      "cell_type": "markdown",
      "id": "6772a255",
      "metadata": {
        "id": "6772a255"
      },
      "source": [
        "# Plotting the results\n",
        "\n",
        "- We will plot the results of each game-set, showing the mean gamepoints earned by each player in each iteration.\n",
        "- We will also plot the gamepoints progression throughout the iterations, showing how the players' gamepoints evolve over time for each strategy configuration.\n"
      ]
    },
    {
      "cell_type": "code",
      "execution_count": null,
      "id": "5f8437a1",
      "metadata": {
        "id": "5f8437a1"
      },
      "outputs": [],
      "source": [
        "\"\"\" Plotting results \"\"\"\n",
        "\n",
        "def plot_results(results):\n",
        "    \"\"\" Plot the results of the games \"\"\"\n",
        "    pass"
      ]
    }
  ],
  "metadata": {
    "kernelspec": {
      "display_name": "Python 3",
      "language": "python",
      "name": "python3"
    },
    "language_info": {
      "codemirror_mode": {
        "name": "ipython",
        "version": 3
      },
      "file_extension": ".py",
      "mimetype": "text/x-python",
      "name": "python",
      "nbconvert_exporter": "python",
      "pygments_lexer": "ipython3",
      "version": "3.12.4"
    },
    "colab": {
      "provenance": [],
      "include_colab_link": true
    }
  },
  "nbformat": 4,
  "nbformat_minor": 5
}